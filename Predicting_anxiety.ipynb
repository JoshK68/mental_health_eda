{
  "nbformat": 4,
  "nbformat_minor": 0,
  "metadata": {
    "colab": {
      "name": "Predicting_anxiety.ipynb",
      "provenance": [],
      "collapsed_sections": [],
      "mount_file_id": "1hAh6JJNr0HCHvGj3Lrt-Oh6y6zQVgP6F",
      "authorship_tag": "ABX9TyNgTKMFAVwk9f/KpgAAMRew",
      "include_colab_link": true
    },
    "kernelspec": {
      "name": "python3",
      "display_name": "Python 3"
    },
    "language_info": {
      "name": "python"
    }
  },
  "cells": [
    {
      "cell_type": "markdown",
      "metadata": {
        "id": "view-in-github",
        "colab_type": "text"
      },
      "source": [
        "<a href=\"https://colab.research.google.com/github/JoshK68/mental_health_eda/blob/main/Predicting_anxiety.ipynb\" target=\"_parent\"><img src=\"https://colab.research.google.com/assets/colab-badge.svg\" alt=\"Open In Colab\"/></a>"
      ]
    },
    {
      "cell_type": "code",
      "source": [
        "import numpy as np\n",
        "import pandas as pd\n",
        "import matplotlib.pyplot as plt\n",
        "import seaborn as sns"
      ],
      "metadata": {
        "id": "SxW5SQkxlJjv"
      },
      "execution_count": null,
      "outputs": []
    },
    {
      "cell_type": "code",
      "source": [
        "data =pd.read_csv('/content/drive/MyDrive/Datasets/Independent_projects/predicting_anxiety/data.csv.zip (Unzipped Files)/data.csv', sep=r'\\t', engine='python')"
      ],
      "metadata": {
        "id": "ABsWD_WAlbCH"
      },
      "execution_count": null,
      "outputs": []
    },
    {
      "cell_type": "code",
      "source": [
        "##r '\\t'"
      ],
      "metadata": {
        "id": "PqAtGRR7mQEu"
      },
      "execution_count": null,
      "outputs": []
    },
    {
      "cell_type": "code",
      "source": [
        "data.head()"
      ],
      "metadata": {
        "id": "-5JEz9XimK_N"
      },
      "execution_count": null,
      "outputs": []
    },
    {
      "cell_type": "code",
      "source": [
        "data.describe()"
      ],
      "metadata": {
        "id": "PMKhuBzImVfu"
      },
      "execution_count": null,
      "outputs": []
    },
    {
      "cell_type": "code",
      "source": [
        "data.info()"
      ],
      "metadata": {
        "id": "Nckd-Myima1P"
      },
      "execution_count": null,
      "outputs": []
    },
    {
      "cell_type": "markdown",
      "source": [
        "Average Response, Position and Time taken for each question"
      ],
      "metadata": {
        "id": "kU5WGpEammFS"
      }
    },
    {
      "cell_type": "code",
      "source": [
        "response_c = [] #column list of response\n",
        "Response = []\n",
        "Position = []\n",
        "Time = []\n",
        "\n",
        "for i in range(0, 42*3, 3):\n",
        "  response_c.append(data.columns[i])\n",
        "\n",
        "for i in range(0, 42*3, 3):\n",
        "  Response.append(data[data.columns[i]].mean())\n",
        "\n",
        "for i in range(0, 42*3, 3):\n",
        "  Position.append(data[data.columns[i+1]].mean())\n",
        "\n",
        "for i in range(0, 42*3, 3):\n",
        "  Time.append(data[data.columns[i+2]].mean())"
      ],
      "metadata": {
        "id": "9-usrMJlmqfP"
      },
      "execution_count": null,
      "outputs": []
    },
    {
      "cell_type": "code",
      "source": [
        "###\n",
        "\n",
        "Questions = pd.DataFrame({'Response': Response, 'Position': Position, 'Time': Time}, index=range(1,43))\n",
        "Questions.index.name = 'Q.No.'\n",
        "Questions"
      ],
      "metadata": {
        "id": "YYSiH7eHnmpi"
      },
      "execution_count": null,
      "outputs": []
    },
    {
      "cell_type": "code",
      "source": [
        "Questions.mean()"
      ],
      "metadata": {
        "id": "OjEJWtX9oNlM"
      },
      "execution_count": null,
      "outputs": []
    },
    {
      "cell_type": "code",
      "source": [
        "Questions.std()"
      ],
      "metadata": {
        "id": "6s_pRmMboZAv"
      },
      "execution_count": null,
      "outputs": []
    },
    {
      "cell_type": "code",
      "source": [
        "plt.figure(figsize=(20,6))\n",
        "sns.lineplot(data=Questions, x=Questions.index, y='Response')"
      ],
      "metadata": {
        "id": "sv5FEB-6ofFw"
      },
      "execution_count": null,
      "outputs": []
    },
    {
      "cell_type": "code",
      "source": [
        "plt.figure(figsize=(20,6))\n",
        "sns.displot(data=Questions, x='Response', kde=True)"
      ],
      "metadata": {
        "id": "o9obYZP0ov86"
      },
      "execution_count": null,
      "outputs": []
    },
    {
      "cell_type": "markdown",
      "source": [
        "Questions with significantly low response values"
      ],
      "metadata": {
        "id": "R_7eEvN1pJeq"
      }
    },
    {
      "cell_type": "code",
      "source": [
        "Questions[Questions['Response'] < 2]"
      ],
      "metadata": {
        "id": "pOVtEgJhpTJj"
      },
      "execution_count": null,
      "outputs": []
    },
    {
      "cell_type": "code",
      "source": [
        "Questions[Questions['Time'] > 4]"
      ],
      "metadata": {
        "id": "-6d-kWYapcwT"
      },
      "execution_count": null,
      "outputs": []
    },
    {
      "cell_type": "code",
      "source": [
        "plt.figure(figsize=(20,6))\n",
        "sns.lineplot(data=Questions, x=Questions.index, y='Position');"
      ],
      "metadata": {
        "id": "fG5u7Qr4prgR"
      },
      "execution_count": null,
      "outputs": []
    },
    {
      "cell_type": "code",
      "source": [
        "#Cell above: Average position of questions is almost same for all. Questions are placed randomly for each person."
      ],
      "metadata": {
        "id": "NiENC7b2qDdm"
      },
      "execution_count": null,
      "outputs": []
    },
    {
      "cell_type": "code",
      "source": [
        "plt.figure(figsize=(20,6))\n",
        "sns.lineplot(data=Questions, x=Questions.index, y='Time');"
      ],
      "metadata": {
        "id": "ycuIju9fqK8t"
      },
      "execution_count": null,
      "outputs": []
    },
    {
      "cell_type": "code",
      "source": [
        "plt.figure(figsize=(20,6))\n",
        "sns.displot(data=Questions, x='Time', kde=True)"
      ],
      "metadata": {
        "id": "ePChChjVqmTv"
      },
      "execution_count": null,
      "outputs": []
    },
    {
      "cell_type": "markdown",
      "source": [
        "Questions with significantly high response time"
      ],
      "metadata": {
        "id": "Qno_vb3aq2cB"
      }
    },
    {
      "cell_type": "code",
      "source": [
        "Questions[Questions['Time'] > 1000].head()"
      ],
      "metadata": {
        "id": "AP146ELhq7CO"
      },
      "execution_count": null,
      "outputs": []
    },
    {
      "cell_type": "code",
      "source": [
        "sns.heatmap(Questions.corr(), cmap='YlGnBu', annot=True);  ###Check the correlation btwn questions"
      ],
      "metadata": {
        "id": "8FtQiAq0rQah"
      },
      "execution_count": null,
      "outputs": []
    },
    {
      "cell_type": "code",
      "source": [
        "#There isn't much correlation btwn response value and time taken\n",
        "#There is a small correlation btwn time taken and average position"
      ],
      "metadata": {
        "id": "uaEpfG-are5B"
      },
      "execution_count": null,
      "outputs": []
    },
    {
      "cell_type": "code",
      "source": [
        "plt.figure(figsize=(16,8))\n",
        "sns.regplot(data=Questions, x='Position', y='Time');"
      ],
      "metadata": {
        "id": "5mkExLH5r0gV"
      },
      "execution_count": null,
      "outputs": []
    },
    {
      "cell_type": "code",
      "source": [
        "#TIPI and VCL https://www.kaggle.com/dsanr1/predicting-anxiety-eda/notebook"
      ],
      "metadata": {
        "id": "ZTK_4-Lfss_A"
      },
      "execution_count": null,
      "outputs": []
    },
    {
      "cell_type": "code",
      "source": [
        "#The Ten Item Personality Inventory was administered (see Gosling, S. D., Rentfrow, P. J., & Swann, W. B., Jr. (2003). A Very Brief Measure of the Big Five Personality Domains. Journal of Research in Personality, 37, 504-528.):\n",
        "\n",
        "#TIPI1 Extraverted, enthusiastic. TIPI2 Critical, quarrelsome. TIPI3 Dependable, self-disciplined. TIPI4 Anxious, easily upset. TIPI5 Open to new experiences, complex. TIPI6 Reserved, quiet. TIPI7 Sympathetic, warm. TIPI8 Disorganized, careless. TIPI9 Calm, emotionally stable. TIPI10 Conventional, uncreative.\n",
        "\n",
        "#The TIPI items were rated \"I see myself as:\" _ such that"
      ],
      "metadata": {
        "id": "NjflZfbT6VgJ"
      },
      "execution_count": null,
      "outputs": []
    },
    {
      "cell_type": "code",
      "source": [
        "#The following items were presented as a check-list and subjects were instructed \"In the grid below, check all the words whose definitions you are sure you know\":\n",
        "\n",
        "#VCL1 boat VCL2 incoherent VCL3 pallid VCL4 robot VCL5 audible VCL6 cuivocal VCL7 paucity VCL8 epistemology VCL9 florted VCL10 decide VCL11 pastiche VCL12 verdid VCL13 abysmal VCL14 lucid VCL15 betray VCL16 funny\n",
        "\n",
        "#A value of 1 is checked, 0 means unchecked. The words at VCL6, VCL9, and VCL12 are not real words and can be used as a validity check."
      ],
      "metadata": {
        "id": "NMbOFIOL6vla"
      },
      "execution_count": null,
      "outputs": []
    },
    {
      "cell_type": "markdown",
      "source": [
        "TIPI and VCL1"
      ],
      "metadata": {
        "id": "Jpnr65Tf666U"
      }
    },
    {
      "cell_type": "code",
      "source": [
        "data.iloc[:, 131:157]"
      ],
      "metadata": {
        "id": "eWewlwpY69rv"
      },
      "execution_count": null,
      "outputs": []
    },
    {
      "cell_type": "code",
      "source": [
        "data.iloc[:, 131:157].mean(axis=0)"
      ],
      "metadata": {
        "id": "S2NrnqBb7QyZ"
      },
      "execution_count": null,
      "outputs": []
    },
    {
      "cell_type": "code",
      "source": [
        "qr = data[response_c].mean(axis=1)\n",
        "qr"
      ],
      "metadata": {
        "id": "rlj_F87P7Yb9"
      },
      "execution_count": null,
      "outputs": []
    },
    {
      "cell_type": "code",
      "source": [
        "#response_c = [] #column list of response"
      ],
      "metadata": {
        "id": "W0sf9wXF7je3"
      },
      "execution_count": null,
      "outputs": []
    },
    {
      "cell_type": "code",
      "source": [
        "tipi = data.iloc[:, 131:141]\n",
        "tipi"
      ],
      "metadata": {
        "id": "DlR3oozy7pjE"
      },
      "execution_count": null,
      "outputs": []
    },
    {
      "cell_type": "code",
      "source": [
        "tipi.insert(0, 'response', qr.values)"
      ],
      "metadata": {
        "id": "LdxE9HfU70If"
      },
      "execution_count": null,
      "outputs": []
    },
    {
      "cell_type": "code",
      "source": [
        "###Already created it (ran the cell twice)"
      ],
      "metadata": {
        "id": "f8QFcr7p8QPz"
      },
      "execution_count": null,
      "outputs": []
    },
    {
      "cell_type": "code",
      "source": [
        "tipi"
      ],
      "metadata": {
        "id": "yuNu4UQ58NQo"
      },
      "execution_count": null,
      "outputs": []
    },
    {
      "cell_type": "code",
      "source": [
        "plt.figure(figsize=(10,6))\n",
        "sns.heatmap(tipi.corr(), cmap='Spectral', annot=True, fmt='.2f', center=0) #'YlGnBu'"
      ],
      "metadata": {
        "id": "O-QiiYpN8ZB2"
      },
      "execution_count": null,
      "outputs": []
    },
    {
      "cell_type": "code",
      "source": [
        "#There is +0.53 correlation between High Anxiety based on response values and TIPI4-Anxious, easily upset.\n",
        "#There is -0.51 correlation between High Anxiety based on response values and TIPI9-Calm, emotionally stable.\n",
        "#Not much of a surprise."
      ],
      "metadata": {
        "id": "g70D_EmJ8_VL"
      },
      "execution_count": null,
      "outputs": []
    },
    {
      "cell_type": "code",
      "source": [
        "vcl = data.iloc[:, 141:157] #start on 138 to grab some TIPI\n",
        "vcl.head()"
      ],
      "metadata": {
        "id": "K2olZ2rv9BcI"
      },
      "execution_count": null,
      "outputs": []
    },
    {
      "cell_type": "code",
      "source": [
        "vcl.insert(0, 'response', qr.values)\n",
        "vcl"
      ],
      "metadata": {
        "id": "prztJAPREyyB"
      },
      "execution_count": null,
      "outputs": []
    },
    {
      "cell_type": "code",
      "source": [
        "plt.figure(figsize=(15,6))\n",
        "sns.heatmap(vcl.corr(), cmap='Spectral', annot=True, fmt='.2f', center=0);"
      ],
      "metadata": {
        "id": "OLublq-tG0et"
      },
      "execution_count": null,
      "outputs": []
    },
    {
      "cell_type": "code",
      "source": [
        "###Response values don't have significant correlation with any vocabulary values."
      ],
      "metadata": {
        "id": "RaGjpbG3HLok"
      },
      "execution_count": null,
      "outputs": []
    },
    {
      "cell_type": "markdown",
      "source": [
        "Demographic Data"
      ],
      "metadata": {
        "id": "Nla0NSTtHQbR"
      }
    },
    {
      "cell_type": "code",
      "source": [
        "#Distribution plot of mean response values of all people\n",
        "\n",
        "sns.displot(data[response_c].mean(axis=1), kde=True, height=5, aspect=3);"
      ],
      "metadata": {
        "id": "3PTUm-gDHSdb"
      },
      "execution_count": null,
      "outputs": []
    },
    {
      "cell_type": "code",
      "source": [
        "demography = data.iloc[:, 157:]\n",
        "demography.tail(3)"
      ],
      "metadata": {
        "id": "EKSu2X7PHpiD"
      },
      "execution_count": null,
      "outputs": []
    },
    {
      "cell_type": "code",
      "source": [
        "#qr = data[response_c].mean(axis=1)"
      ],
      "metadata": {
        "id": "WHtPbREWH-kT"
      },
      "execution_count": null,
      "outputs": []
    },
    {
      "cell_type": "code",
      "source": [
        "demography.insert(0, 'response', qr.values)"
      ],
      "metadata": {
        "id": "b9kyUkwqIANv"
      },
      "execution_count": null,
      "outputs": []
    },
    {
      "cell_type": "code",
      "source": [
        "demography.head()"
      ],
      "metadata": {
        "id": "0HLADrgvIIJ5"
      },
      "execution_count": null,
      "outputs": []
    },
    {
      "cell_type": "code",
      "source": [
        "plt.figure(figsize=(15,6))\n",
        "sns.heatmap(demography.corr(), cmap='Spectral', annot=True, fmt='.2f', center=0);"
      ],
      "metadata": {
        "id": "Q_634TJbIMzO"
      },
      "execution_count": null,
      "outputs": []
    },
    {
      "cell_type": "code",
      "source": [
        "###High education has slighl negative correlation (-0.17) with High Anxiety"
      ],
      "metadata": {
        "id": "KXEyNjgRIj95"
      },
      "execution_count": null,
      "outputs": []
    },
    {
      "cell_type": "code",
      "source": [
        "demography.columns"
      ],
      "metadata": {
        "id": "InuamdBvIqI4"
      },
      "execution_count": null,
      "outputs": []
    },
    {
      "cell_type": "code",
      "source": [
        "#Start: Categorical plots of response values and demographics variables"
      ],
      "metadata": {
        "id": "49rrFYvxIzZr"
      },
      "execution_count": null,
      "outputs": []
    },
    {
      "cell_type": "code",
      "source": [
        "fig, axes = plt.subplots(3, 4, figsize=(20,12))\n",
        "\n",
        "l = ['education', 'urban', 'gender', 'engnat', 'screensize', 'uniquenetworklocation',\n",
        "     'hand', 'religion', 'orientation', 'race', 'voted', 'married', 'familysize']\n",
        "\n",
        "for i, ax in enumerate(axes.ravel()):\n",
        "\n",
        "  sns.boxenplot(data=demography, y='response', x=l[i], ax=ax)\n",
        "\n",
        "plt.tight_layout()\n",
        "\n",
        "#Oct 26, 2021 — The numpy.ravel() functions returns contiguous flattened array(1D array with all the input-array elements and with the same type as it)."
      ],
      "metadata": {
        "id": "7hyUhLZOk11U"
      },
      "execution_count": null,
      "outputs": []
    },
    {
      "cell_type": "code",
      "source": [
        "###https://www.statology.org/pandas-factorize/"
      ],
      "metadata": {
        "id": "fmADy9ZqoZlW"
      },
      "execution_count": null,
      "outputs": []
    },
    {
      "cell_type": "code",
      "source": [
        "def correlation_ratio(categories, measurements):\n",
        "\n",
        "  fcat, _ = pd.factorize(categories) ###Print\n",
        "  cat_num = np.max(fcat) +1\n",
        "  y_avg_array = np.zeros(cat_num)\n",
        "  n_array = np.zeros(cat_num)\n",
        "  for i in range(0, cat_num):\n",
        "    cat_measures = measurements[np.argwhere(fcat == i).flatten()]\n",
        "    n_array[i] = len(cat_measures)\n",
        "    y_avg_array[i] = np.average(cat_measures)\n",
        "  y_total_avg = np.sum(np.multiply(y_avg_array,n_array))//np.sum(n_array)\n",
        "\n",
        "  numerator = np.sum(np.multiply(n_array,np.power(np.subtract(y_avg_array,y_total_avg),2)))\n",
        "  denominator = np.sum(np.power(np.subtract(measurements, y_total_avg), 2))\n",
        "  if numerator == 0:\n",
        "    eta = 0.0\n",
        "  else:\n",
        "    eta = np.sqrt(numerator/denominator)\n",
        "  return eta"
      ],
      "metadata": {
        "id": "NcWl3wvGnSTF"
      },
      "execution_count": null,
      "outputs": []
    },
    {
      "cell_type": "code",
      "source": [
        "###Correlation between categorical variables and response values (0 to 1)"
      ],
      "metadata": {
        "id": "_oUlRKsyqVwU"
      },
      "execution_count": null,
      "outputs": []
    },
    {
      "cell_type": "code",
      "source": [
        "cat_list = ['education', 'urban', 'gender', 'engnat', 'screensize', 'uniquenetworklocation','hand', 'orientation', 'voted', 'married', 'familysize']"
      ],
      "metadata": {
        "id": "UIWu1wFzqafs"
      },
      "execution_count": null,
      "outputs": []
    },
    {
      "cell_type": "code",
      "source": [
        "for i in cat_list:\n",
        "  print(i)\n",
        "  print(f\"{correlation_ratio(demography[i], demography['response'])}\")"
      ],
      "metadata": {
        "id": "6poYXHoHquaC"
      },
      "execution_count": null,
      "outputs": []
    },
    {
      "cell_type": "markdown",
      "source": [
        "education \"How much education have you completed?\", 1=Less than high school, 2=High school, 3=University degree, 4=Graduate degree urban \"What type of area did you live when you were a child?\", 1=Rural (country side), 2=Suburban, 3=Urban (town, city) gender \"What is your gender?\", 1=Male, 2=Female, 3=Other engnat \"Is English your native language?\", 1=Yes, 2=No age \"How many years old are you?\" hand \"What hand do you use to write with?\", 1=Right, 2=Left, 3=Both religion \"What is your religion?\", 1=Agnostic, 2=Atheist, 3=Buddhist, 4=Christian (Catholic), 5=Christian (Mormon), 6=Christian (Protestant), 7=Christian (Other), 8=Hindu, 9=Jewish, 10=Muslim, 11=Sikh, 12=Other orientation \"What is your sexual orientation?\", 1=Heterosexual, 2=Bisexual, 3=Homosexual, 4=Asexual, 5=Other race \"What is your race?\", 10=Asian, 20=Arab, 30=Black, 40=Indigenous Australian, 50=Native American, 60=White, 70=Other voted \"Have you voted in a national election in the past year?\", 1=Yes, 2=No married \"What is your marital status?\", 1=Never married, 2=Currently married, 3=Previously married familysize \"Including you, how many children did your mother have?\""
      ],
      "metadata": {
        "id": "4BVkYRaYrbNl"
      }
    },
    {
      "cell_type": "code",
      "source": [
        "#Education:\n",
        "\n",
        "demography.groupby('education').count()"
      ],
      "metadata": {
        "id": "qWG_XGazrc7_"
      },
      "execution_count": null,
      "outputs": []
    },
    {
      "cell_type": "code",
      "source": [
        "demography.groupby('education').mean()"
      ],
      "metadata": {
        "id": "PV-J5M9prj68"
      },
      "execution_count": null,
      "outputs": []
    },
    {
      "cell_type": "markdown",
      "source": [
        "gender"
      ],
      "metadata": {
        "id": "-u7B4RS0rt6D"
      }
    },
    {
      "cell_type": "code",
      "source": [
        "demography.groupby('gender').count()"
      ],
      "metadata": {
        "id": "jrcjOkiSrwb6"
      },
      "execution_count": null,
      "outputs": []
    },
    {
      "cell_type": "code",
      "source": [
        "demography.groupby('gender').mean()"
      ],
      "metadata": {
        "id": "lezLFLGdr0w6"
      },
      "execution_count": null,
      "outputs": []
    },
    {
      "cell_type": "code",
      "source": [
        "demography.groupby('married').mean()"
      ],
      "metadata": {
        "id": "yq7nXs2osJuo"
      },
      "execution_count": null,
      "outputs": []
    },
    {
      "cell_type": "code",
      "source": [
        "demography.groupby('married').count()"
      ],
      "metadata": {
        "id": "x3hoxGTPsQLb"
      },
      "execution_count": null,
      "outputs": []
    },
    {
      "cell_type": "code",
      "source": [
        "#Screen size\n",
        "\n",
        "demography.groupby('screensize').mean()"
      ],
      "metadata": {
        "id": "EvntYYjTsazb"
      },
      "execution_count": null,
      "outputs": []
    },
    {
      "cell_type": "code",
      "source": [
        "#While Bigger screen size is associated with sightly less response value(2.31 vs 2.41), the difference is small and can probably be affected by other factors."
      ],
      "metadata": {
        "id": "dUhVx4Aosjur"
      },
      "execution_count": null,
      "outputs": []
    },
    {
      "cell_type": "code",
      "source": [
        "demography[(demography['education']==3) & (demography['gender'] == 2) & (demography['married']==1)].groupby('screensize').mean()"
      ],
      "metadata": {
        "id": "6DTNuRfcsxv0"
      },
      "execution_count": null,
      "outputs": []
    }
  ]
}